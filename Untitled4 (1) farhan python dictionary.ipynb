{
 "cells": [
  {
   "cell_type": "markdown",
   "id": "8874de6f-41ac-408f-8e0b-d8c0e46f7af0",
   "metadata": {},
   "source": [
    "# a) Create a dictionary to store information about a person"
   ]
  },
  {
   "cell_type": "code",
   "execution_count": 1,
   "id": "db3472dd-ffcd-4f88-a870-f58cb9986b0d",
   "metadata": {},
   "outputs": [
    {
     "name": "stdout",
     "output_type": "stream",
     "text": [
      "Person Info: {'name': 'Alice', 'age': 30, 'city': 'New York', 'hobbies': ['reading', 'traveling', 'painting']}\n"
     ]
    }
   ],
   "source": [
    "person = {\n",
    "    \"name\": \"Alice\",\n",
    "    \"age\": 30,\n",
    "    \"city\": \"New York\",\n",
    "    \"hobbies\": [\"reading\", \"traveling\", \"painting\"]\n",
    "}\n",
    "print(\"Person Info:\", person)"
   ]
  },
  {
   "cell_type": "markdown",
   "id": "fc93d766-2fe0-4ffb-a967-1fe088e9f02a",
   "metadata": {},
   "source": [
    "# b) Count the frequency of words in a given text"
   ]
  },
  {
   "cell_type": "code",
   "execution_count": 3,
   "id": "df7b2b3b-bf9b-424f-849a-f6e8e71b24dc",
   "metadata": {},
   "outputs": [
    {
     "name": "stdout",
     "output_type": "stream",
     "text": [
      "\n",
      "Word Frequency: {'python': 2, 'is': 2, 'fun': 2, 'easy': 1, 'to': 2, 'learn': 1, 'and': 1, 'use': 1}\n"
     ]
    }
   ],
   "source": [
    "def word_frequency(text):\n",
    "    words = text.lower().split()\n",
    "    frequency = {}\n",
    "    for word in words:\n",
    "        word = word.strip(\".,!?\")  # Remove punctuation\n",
    "        frequency[word] = frequency.get(word, 0) + 1\n",
    "    return frequency\n",
    "\n",
    "text_input = \"Python is fun. Python is easy to learn and fun to use.\"\n",
    "print(\"\\nWord Frequency:\", word_frequency(text_input))"
   ]
  },
  {
   "cell_type": "markdown",
   "id": "c145d6e8-9198-487a-911a-8999a0d322ca",
   "metadata": {},
   "source": [
    "# c) Simple inventory system using dictionaries"
   ]
  },
  {
   "cell_type": "code",
   "execution_count": 5,
   "id": "fa7ab4ea-9113-4c09-b72a-023a2a1d22cb",
   "metadata": {},
   "outputs": [
    {
     "name": "stdout",
     "output_type": "stream",
     "text": [
      "\n",
      "Inventory: {'apple': 50, 'banana': 30, 'orange': 20}\n"
     ]
    }
   ],
   "source": [
    "inventory = {\n",
    "    \"apple\": 50,\n",
    "    \"banana\": 30,\n",
    "    \"orange\": 20\n",
    "}\n",
    "print(\"\\nInventory:\", inventory)\n"
   ]
  },
  {
   "cell_type": "markdown",
   "id": "bd0b341f-6b0a-45ce-865a-6d9c6df8685e",
   "metadata": {},
   "source": [
    "# d) Analyze a dataset of customer orders to find the most popular product category"
   ]
  },
  {
   "cell_type": "code",
   "execution_count": 7,
   "id": "e3ec071b-bad4-4d87-871d-65dbb48ecbab",
   "metadata": {},
   "outputs": [
    {
     "name": "stdout",
     "output_type": "stream",
     "text": [
      "\n",
      "Most Popular Category: Electronics\n"
     ]
    }
   ],
   "source": [
    "orders = [\n",
    "    {\"customer\": \"John\", \"category\": \"Electronics\"},\n",
    "    {\"customer\": \"Jane\", \"category\": \"Clothing\"},\n",
    "    {\"customer\": \"Mike\", \"category\": \"Electronics\"},\n",
    "    {\"customer\": \"Sara\", \"category\": \"Clothing\"},\n",
    "    {\"customer\": \"Tom\", \"category\": \"Electronics\"}\n",
    "]\n",
    "\n",
    "def most_popular_category(orders):\n",
    "    category_count = {}\n",
    "    for order in orders:\n",
    "        category = order[\"category\"]\n",
    "        category_count[category] = category_count.get(category, 0) + 1\n",
    "    return max(category_count, key=category_count.get)\n",
    "\n",
    "print(\"\\nMost Popular Category:\", most_popular_category(orders))\n"
   ]
  },
  {
   "cell_type": "markdown",
   "id": "a6f5ba92-72fd-4ec1-84e6-e7c47d27b4da",
   "metadata": {},
   "source": [
    "# e) Dictionary to store student grades and calculate average"
   ]
  },
  {
   "cell_type": "code",
   "execution_count": 9,
   "id": "8f8f98f5-3a19-447b-83d1-0292d55f4cd5",
   "metadata": {},
   "outputs": [
    {
     "name": "stdout",
     "output_type": "stream",
     "text": [
      "\n",
      "Average Grade: 86.25\n"
     ]
    }
   ],
   "source": [
    "grades = {\n",
    "    \"Alice\": 85,\n",
    "    \"Bob\": 90,\n",
    "    \"Charlie\": 78,\n",
    "    \"Diana\": 92\n",
    "}\n",
    "\n",
    "def average_grade(grades):\n",
    "    return sum(grades.values()) / len(grades)\n",
    "\n",
    "print(\"\\nAverage Grade:\", average_grade(grades))"
   ]
  },
  {
   "cell_type": "markdown",
   "id": "a11c3555-20d3-45c8-8913-88976f10d811",
   "metadata": {},
   "source": [
    "# f) Inventory Management System"
   ]
  },
  {
   "cell_type": "code",
   "execution_count": 15,
   "id": "589ec251-4209-4eb0-a04e-87f905b4baa8",
   "metadata": {},
   "outputs": [
    {
     "name": "stdout",
     "output_type": "stream",
     "text": [
      "\n",
      "Total Inventory Value: $ 14300\n",
      "Low Stock Report: {'Headphones': {'quantity': 2, 'price': 150}, 'Tablet': {'quantity': 3, 'price': 400}}\n"
     ]
    }
   ],
   "source": [
    "product_inventory = {\n",
    "    \"Laptop\": {\"quantity\": 10, \"price\": 800},\n",
    "    \"Phone\": {\"quantity\": 5, \"price\": 600},\n",
    "    \"Headphones\": {\"quantity\": 2, \"price\": 150}\n",
    "}\n",
    "\n",
    "def add_product(name, quantity, price):\n",
    "    product_inventory[name] = {\"quantity\": quantity, \"price\": price}\n",
    "\n",
    "def update_quantity(name, quantity):\n",
    "    if name in product_inventory:\n",
    "        product_inventory[name][\"quantity\"] += quantity\n",
    "    else:\n",
    "        print(f\"Product {name} not found!\")\n",
    "\n",
    "def total_inventory_value():\n",
    "    return sum(item[\"quantity\"] * item[\"price\"] for item in product_inventory.values())\n",
    "\n",
    "def low_stock_report(threshold=5):\n",
    "    return {name: info for name, info in product_inventory.items() if info[\"quantity\"] < threshold}\n",
    "    # Demo for inventory management\n",
    "add_product(\"Tablet\", 3, 400)\n",
    "update_quantity(\"Phone\", 3)\n",
    "print(\"\\nTotal Inventory Value: $\", total_inventory_value())\n",
    "print(\"Low Stock Report:\", low_stock_report())\n"
   ]
  },
  {
   "cell_type": "code",
   "execution_count": null,
   "id": "6ba73cd6-627a-412e-9c06-c5b62ef8d98f",
   "metadata": {},
   "outputs": [],
   "source": []
  }
 ],
 "metadata": {
  "kernelspec": {
   "display_name": "Python [conda env:base] *",
   "language": "python",
   "name": "conda-base-py"
  },
  "language_info": {
   "codemirror_mode": {
    "name": "ipython",
    "version": 3
   },
   "file_extension": ".py",
   "mimetype": "text/x-python",
   "name": "python",
   "nbconvert_exporter": "python",
   "pygments_lexer": "ipython3",
   "version": "3.12.7"
  }
 },
 "nbformat": 4,
 "nbformat_minor": 5
}
